{
 "cells": [
  {
   "cell_type": "markdown",
   "metadata": {},
   "source": [
    "# Predicting\n",
    "\n",
    "Using our three objects, we can now predict the transitions."
   ]
  },
  {
   "cell_type": "code",
   "execution_count": 1,
   "metadata": {},
   "outputs": [],
   "source": [
    "import sys\n",
    "sys.path.append(\"../\")\n",
    "\n",
    "from MapSci.papers import papers\n",
    "from MapSci.research_space import research_space\n",
    "from MapSci.entities import entities\n",
    "import MapSci.agg as agg\n",
    "import MapSci.predict as pr\n",
    "\n",
    "import numpy as np\n",
    "import matplotlib.pyplot as plt\n",
    "\n",
    "import scipy.stats as stats\n",
    "import numpy as np"
   ]
  },
  {
   "cell_type": "markdown",
   "metadata": {},
   "source": [
    "As in [before](https://github.com/franciscogaluppo/science-of-science/blob/master/examples/2\\)%20Research%20Space.ipynb), we will first load our papers object using the 'lattes_categories' key. We will also initialize our research space object with the same key, passing our papers as a parameter, and computing the spaces for our timeframe of interest."
   ]
  },
  {
   "cell_type": "code",
   "execution_count": 2,
   "metadata": {},
   "outputs": [
    {
     "name": "stdout",
     "output_type": "stream",
     "text": [
      "frequentist(1999, 2013, 0.1)\n",
      "embedding(1999, 2013, 0.1, 200)\n"
     ]
    }
   ],
   "source": [
    "pp = papers(\"lattes_categories\")\n",
    "maps = research_space(\"lattes_categories\", pp)\n",
    "maps.compute(1999, 2013)\n",
    "\n",
    "freq = maps.phi[\"frequentist(1999, 2013, 0.1)\"][0]\n",
    "embe = maps.phi[\"embedding(1999, 2013, 0.1, 200)\"][0]\n",
    "spaces = [freq, embe]"
   ]
  },
  {
   "cell_type": "markdown",
   "metadata": {},
   "source": [
    "The scientists entities object"
   ]
  },
  {
   "cell_type": "code",
   "execution_count": 3,
   "metadata": {},
   "outputs": [],
   "source": [
    "presence = pp.presence(2011, 2013)\n",
    "indices = maps.phi[\"frequentist(1999, 2013, 0.1)\"][1]\n",
    "scientists = entities(presence, indices)"
   ]
  },
  {
   "cell_type": "markdown",
   "metadata": {},
   "source": [
    "And the aggregation:"
   ]
  },
  {
   "cell_type": "code",
   "execution_count": 4,
   "metadata": {},
   "outputs": [],
   "source": [
    "inst, st = agg.get_insts(scientists.set, \"../dataset/lattes/pesquisadores.csv\", sep=\";sep;\")\n",
    "\n",
    "xi = agg.aggregate(presence[1], inst)\n",
    "presence_inst = pp.presence(2011, 2013, x=xi)\n",
    "institutions = entities(presence_inst, indices)\n",
    "\n",
    "xs = agg.aggregate(presence[1], st)\n",
    "presence_st = pp.presence(2011, 2013, x=xs)\n",
    "states = entities(presence_st, indices)"
   ]
  },
  {
   "cell_type": "markdown",
   "metadata": {},
   "source": [
    "To predict is extremely easy. Just call a function! These are the top 10 predictions for Alberto Laender, one of the professors in our computer science department."
   ]
  },
  {
   "cell_type": "code",
   "execution_count": 5,
   "metadata": {},
   "outputs": [
    {
     "data": {
      "text/plain": "[(0.29416300773842985, 'logic'),\n (0.2734763841298093, 'computer networks and communications'),\n (0.2547066548787358, 'computer science (miscellaneous)'),\n (0.2529282655412077, 'management information systems'),\n (0.20083009839195734, 'media technology'),\n (0.19999059653526374, 'signal processing'),\n (0.18973653887311284, 'human-computer interaction'),\n (0.18272015145170095, 'computer vision and pattern recognition'),\n (0.18087997180920903, 'control and optimization'),\n (0.17409435366492873, 'e-learning')]"
     },
     "execution_count": 5,
     "metadata": {},
     "output_type": "execute_result"
    }
   ],
   "source": [
    "# Laender\n",
    "scientists.predict(9089204821424223, freq, 'inactive-active')[:10]"
   ]
  },
  {
   "cell_type": "markdown",
   "metadata": {},
   "source": [
    "To check how good the predictions are, we need to prepare a ground truth. Note that this is as simple as checking the presence matrix for the following years."
   ]
  },
  {
   "cell_type": "code",
   "execution_count": 6,
   "metadata": {},
   "outputs": [],
   "source": [
    "ground_truth = pp.presence(2014, 2016)\n",
    "scientists_future = entities(ground_truth, indices)\n",
    "\n",
    "xs = agg.aggregate(ground_truth[1], st)\n",
    "presence_st_future = pp.presence(2014, 2016, x=xs)\n",
    "states_future = entities(presence_st_future, indices)\n",
    "\n",
    "xi = agg.aggregate(ground_truth[1], inst)\n",
    "presence_inst_future = pp.presence(2014, 2016, x=xi)\n",
    "institutions_future = entities(presence_inst_future, indices)"
   ]
  },
  {
   "cell_type": "markdown",
   "metadata": {},
   "source": [
    "Below we can see the accuracy (as measured by the AUROC) for states. Not the best."
   ]
  },
  {
   "cell_type": "code",
   "execution_count": 7,
   "metadata": {
    "scrolled": false
   },
   "outputs": [
    {
     "name": "stdout",
     "output_type": "stream",
     "text": [
      "1 out of 1 scores couldn't be computed.\n"
     ]
    },
    {
     "ename": "ValueError",
     "evalue": "zero-size array to reduction operation minimum which has no identity",
     "output_type": "error",
     "traceback": [
      "\u001B[0;31m---------------------------------------------------------------------------\u001B[0m",
      "\u001B[0;31mValueError\u001B[0m                                Traceback (most recent call last)",
      "\u001B[0;32m/tmp/ipykernel_16042/580741289.py\u001B[0m in \u001B[0;36m<module>\u001B[0;34m\u001B[0m\n\u001B[1;32m      1\u001B[0m \u001B[0mauc\u001B[0m\u001B[0;34m,\u001B[0m \u001B[0mcomputed\u001B[0m \u001B[0;34m=\u001B[0m \u001B[0mpr\u001B[0m\u001B[0;34m.\u001B[0m\u001B[0mpredict_all\u001B[0m\u001B[0;34m(\u001B[0m\u001B[0mstates\u001B[0m\u001B[0;34m,\u001B[0m \u001B[0mspaces\u001B[0m\u001B[0;34m,\u001B[0m \u001B[0mindices\u001B[0m\u001B[0;34m,\u001B[0m \u001B[0;34m'inactive-active'\u001B[0m\u001B[0;34m,\u001B[0m \u001B[0mstates_future\u001B[0m\u001B[0;34m)\u001B[0m\u001B[0;34m\u001B[0m\u001B[0;34m\u001B[0m\u001B[0m\n\u001B[0;32m----> 2\u001B[0;31m \u001B[0mpr\u001B[0m\u001B[0;34m.\u001B[0m\u001B[0mplot_comp\u001B[0m\u001B[0;34m(\u001B[0m\u001B[0mauc\u001B[0m\u001B[0;34m,\u001B[0m \u001B[0mstates\u001B[0m\u001B[0;34m,\u001B[0m \u001B[0mcomputed\u001B[0m\u001B[0;34m)\u001B[0m\u001B[0;34m\u001B[0m\u001B[0;34m\u001B[0m\u001B[0m\n\u001B[0m\u001B[1;32m      3\u001B[0m \u001B[0;34m\u001B[0m\u001B[0m\n",
      "\u001B[0;32m~/MapSci/MapSci/predict.py\u001B[0m in \u001B[0;36mplot_comp\u001B[0;34m(auc, entity, computed)\u001B[0m\n\u001B[1;32m    129\u001B[0m     \u001B[0max\u001B[0m \u001B[0;34m=\u001B[0m \u001B[0mplt\u001B[0m\u001B[0;34m.\u001B[0m\u001B[0msubplot\u001B[0m\u001B[0;34m(\u001B[0m\u001B[0;36m3\u001B[0m\u001B[0;34m,\u001B[0m\u001B[0;36m3\u001B[0m\u001B[0;34m,\u001B[0m\u001B[0;36m1\u001B[0m\u001B[0;34m)\u001B[0m\u001B[0;34m\u001B[0m\u001B[0;34m\u001B[0m\u001B[0m\n\u001B[1;32m    130\u001B[0m     \u001B[0max\u001B[0m\u001B[0;34m.\u001B[0m\u001B[0mset_title\u001B[0m\u001B[0;34m(\u001B[0m\u001B[0;34m\"AUC ROC curve distributions\"\u001B[0m\u001B[0;34m)\u001B[0m\u001B[0;34m\u001B[0m\u001B[0;34m\u001B[0m\u001B[0m\n\u001B[0;32m--> 131\u001B[0;31m     parts = ax.violinplot(auc, showmeans=False, showmedians=True,\n\u001B[0m\u001B[1;32m    132\u001B[0m         showextrema=False)\n\u001B[1;32m    133\u001B[0m \u001B[0;34m\u001B[0m\u001B[0m\n",
      "\u001B[0;32m~/MapSci/venv/lib/python3.8/site-packages/matplotlib/__init__.py\u001B[0m in \u001B[0;36minner\u001B[0;34m(ax, data, *args, **kwargs)\u001B[0m\n\u001B[1;32m   1359\u001B[0m     \u001B[0;32mdef\u001B[0m \u001B[0minner\u001B[0m\u001B[0;34m(\u001B[0m\u001B[0max\u001B[0m\u001B[0;34m,\u001B[0m \u001B[0;34m*\u001B[0m\u001B[0margs\u001B[0m\u001B[0;34m,\u001B[0m \u001B[0mdata\u001B[0m\u001B[0;34m=\u001B[0m\u001B[0;32mNone\u001B[0m\u001B[0;34m,\u001B[0m \u001B[0;34m**\u001B[0m\u001B[0mkwargs\u001B[0m\u001B[0;34m)\u001B[0m\u001B[0;34m:\u001B[0m\u001B[0;34m\u001B[0m\u001B[0;34m\u001B[0m\u001B[0m\n\u001B[1;32m   1360\u001B[0m         \u001B[0;32mif\u001B[0m \u001B[0mdata\u001B[0m \u001B[0;32mis\u001B[0m \u001B[0;32mNone\u001B[0m\u001B[0;34m:\u001B[0m\u001B[0;34m\u001B[0m\u001B[0;34m\u001B[0m\u001B[0m\n\u001B[0;32m-> 1361\u001B[0;31m             \u001B[0;32mreturn\u001B[0m \u001B[0mfunc\u001B[0m\u001B[0;34m(\u001B[0m\u001B[0max\u001B[0m\u001B[0;34m,\u001B[0m \u001B[0;34m*\u001B[0m\u001B[0mmap\u001B[0m\u001B[0;34m(\u001B[0m\u001B[0msanitize_sequence\u001B[0m\u001B[0;34m,\u001B[0m \u001B[0margs\u001B[0m\u001B[0;34m)\u001B[0m\u001B[0;34m,\u001B[0m \u001B[0;34m**\u001B[0m\u001B[0mkwargs\u001B[0m\u001B[0;34m)\u001B[0m\u001B[0;34m\u001B[0m\u001B[0;34m\u001B[0m\u001B[0m\n\u001B[0m\u001B[1;32m   1362\u001B[0m \u001B[0;34m\u001B[0m\u001B[0m\n\u001B[1;32m   1363\u001B[0m         \u001B[0mbound\u001B[0m \u001B[0;34m=\u001B[0m \u001B[0mnew_sig\u001B[0m\u001B[0;34m.\u001B[0m\u001B[0mbind\u001B[0m\u001B[0;34m(\u001B[0m\u001B[0max\u001B[0m\u001B[0;34m,\u001B[0m \u001B[0;34m*\u001B[0m\u001B[0margs\u001B[0m\u001B[0;34m,\u001B[0m \u001B[0;34m**\u001B[0m\u001B[0mkwargs\u001B[0m\u001B[0;34m)\u001B[0m\u001B[0;34m\u001B[0m\u001B[0;34m\u001B[0m\u001B[0m\n",
      "\u001B[0;32m~/MapSci/venv/lib/python3.8/site-packages/matplotlib/axes/_axes.py\u001B[0m in \u001B[0;36mviolinplot\u001B[0;34m(self, dataset, positions, vert, widths, showmeans, showextrema, showmedians, quantiles, points, bw_method)\u001B[0m\n\u001B[1;32m   8034\u001B[0m             \u001B[0;32mreturn\u001B[0m \u001B[0mkde\u001B[0m\u001B[0;34m.\u001B[0m\u001B[0mevaluate\u001B[0m\u001B[0;34m(\u001B[0m\u001B[0mcoords\u001B[0m\u001B[0;34m)\u001B[0m\u001B[0;34m\u001B[0m\u001B[0;34m\u001B[0m\u001B[0m\n\u001B[1;32m   8035\u001B[0m \u001B[0;34m\u001B[0m\u001B[0m\n\u001B[0;32m-> 8036\u001B[0;31m         vpstats = cbook.violin_stats(dataset, _kde_method, points=points,\n\u001B[0m\u001B[1;32m   8037\u001B[0m                                      quantiles=quantiles)\n\u001B[1;32m   8038\u001B[0m         return self.violin(vpstats, positions=positions, vert=vert,\n",
      "\u001B[0;32m~/MapSci/venv/lib/python3.8/site-packages/matplotlib/cbook/__init__.py\u001B[0m in \u001B[0;36mviolin_stats\u001B[0;34m(X, method, points, quantiles)\u001B[0m\n\u001B[1;32m   1518\u001B[0m \u001B[0;34m\u001B[0m\u001B[0m\n\u001B[1;32m   1519\u001B[0m         \u001B[0;31m# Calculate basic stats for the distribution\u001B[0m\u001B[0;34m\u001B[0m\u001B[0;34m\u001B[0m\u001B[0;34m\u001B[0m\u001B[0m\n\u001B[0;32m-> 1520\u001B[0;31m         \u001B[0mmin_val\u001B[0m \u001B[0;34m=\u001B[0m \u001B[0mnp\u001B[0m\u001B[0;34m.\u001B[0m\u001B[0mmin\u001B[0m\u001B[0;34m(\u001B[0m\u001B[0mx\u001B[0m\u001B[0;34m)\u001B[0m\u001B[0;34m\u001B[0m\u001B[0;34m\u001B[0m\u001B[0m\n\u001B[0m\u001B[1;32m   1521\u001B[0m         \u001B[0mmax_val\u001B[0m \u001B[0;34m=\u001B[0m \u001B[0mnp\u001B[0m\u001B[0;34m.\u001B[0m\u001B[0mmax\u001B[0m\u001B[0;34m(\u001B[0m\u001B[0mx\u001B[0m\u001B[0;34m)\u001B[0m\u001B[0;34m\u001B[0m\u001B[0;34m\u001B[0m\u001B[0m\n\u001B[1;32m   1522\u001B[0m         \u001B[0mquantile_val\u001B[0m \u001B[0;34m=\u001B[0m \u001B[0mnp\u001B[0m\u001B[0;34m.\u001B[0m\u001B[0mpercentile\u001B[0m\u001B[0;34m(\u001B[0m\u001B[0mx\u001B[0m\u001B[0;34m,\u001B[0m \u001B[0;36m100\u001B[0m \u001B[0;34m*\u001B[0m \u001B[0mq\u001B[0m\u001B[0;34m)\u001B[0m\u001B[0;34m\u001B[0m\u001B[0;34m\u001B[0m\u001B[0m\n",
      "\u001B[0;32m<__array_function__ internals>\u001B[0m in \u001B[0;36mamin\u001B[0;34m(*args, **kwargs)\u001B[0m\n",
      "\u001B[0;32m~/MapSci/venv/lib/python3.8/site-packages/numpy/core/fromnumeric.py\u001B[0m in \u001B[0;36mamin\u001B[0;34m(a, axis, out, keepdims, initial, where)\u001B[0m\n\u001B[1;32m   2877\u001B[0m     \u001B[0;36m6\u001B[0m\u001B[0;34m\u001B[0m\u001B[0;34m\u001B[0m\u001B[0m\n\u001B[1;32m   2878\u001B[0m     \"\"\"\n\u001B[0;32m-> 2879\u001B[0;31m     return _wrapreduction(a, np.minimum, 'min', axis, None, out,\n\u001B[0m\u001B[1;32m   2880\u001B[0m                           keepdims=keepdims, initial=initial, where=where)\n\u001B[1;32m   2881\u001B[0m \u001B[0;34m\u001B[0m\u001B[0m\n",
      "\u001B[0;32m~/MapSci/venv/lib/python3.8/site-packages/numpy/core/fromnumeric.py\u001B[0m in \u001B[0;36m_wrapreduction\u001B[0;34m(obj, ufunc, method, axis, dtype, out, **kwargs)\u001B[0m\n\u001B[1;32m     84\u001B[0m                 \u001B[0;32mreturn\u001B[0m \u001B[0mreduction\u001B[0m\u001B[0;34m(\u001B[0m\u001B[0maxis\u001B[0m\u001B[0;34m=\u001B[0m\u001B[0maxis\u001B[0m\u001B[0;34m,\u001B[0m \u001B[0mout\u001B[0m\u001B[0;34m=\u001B[0m\u001B[0mout\u001B[0m\u001B[0;34m,\u001B[0m \u001B[0;34m**\u001B[0m\u001B[0mpasskwargs\u001B[0m\u001B[0;34m)\u001B[0m\u001B[0;34m\u001B[0m\u001B[0;34m\u001B[0m\u001B[0m\n\u001B[1;32m     85\u001B[0m \u001B[0;34m\u001B[0m\u001B[0m\n\u001B[0;32m---> 86\u001B[0;31m     \u001B[0;32mreturn\u001B[0m \u001B[0mufunc\u001B[0m\u001B[0;34m.\u001B[0m\u001B[0mreduce\u001B[0m\u001B[0;34m(\u001B[0m\u001B[0mobj\u001B[0m\u001B[0;34m,\u001B[0m \u001B[0maxis\u001B[0m\u001B[0;34m,\u001B[0m \u001B[0mdtype\u001B[0m\u001B[0;34m,\u001B[0m \u001B[0mout\u001B[0m\u001B[0;34m,\u001B[0m \u001B[0;34m**\u001B[0m\u001B[0mpasskwargs\u001B[0m\u001B[0;34m)\u001B[0m\u001B[0;34m\u001B[0m\u001B[0;34m\u001B[0m\u001B[0m\n\u001B[0m\u001B[1;32m     87\u001B[0m \u001B[0;34m\u001B[0m\u001B[0m\n\u001B[1;32m     88\u001B[0m \u001B[0;34m\u001B[0m\u001B[0m\n",
      "\u001B[0;31mValueError\u001B[0m: zero-size array to reduction operation minimum which has no identity"
     ]
    },
    {
     "data": {
      "text/plain": "<Figure size 1296x1296 with 1 Axes>",
      "image/png": "[encoded data removed]"
     },
     "metadata": {
      "needs_background": "light"
     },
     "output_type": "display_data"
    }
   ],
   "source": [
    "auc, computed = pr.predict_all(states, spaces, indices, 'inactive-active', states_future)\n",
    "pr.plot_comp(auc, states, computed)"
   ]
  },
  {
   "cell_type": "markdown",
   "metadata": {},
   "source": [
    "To compare the models for scientists, institutions and stations, for all transitions, we need to use the same function for every configuration:"
   ]
  },
  {
   "cell_type": "code",
   "execution_count": null,
   "metadata": {
    "collapsed": true
   },
   "outputs": [],
   "source": [
    "auc1, computed = pr.predict_all(scientists, spaces, indices, 'inactive-active', scientists_future)\n",
    "auc2, computed = pr.predict_all(institutions, spaces, indices, 'inactive-active', institutions_future)\n",
    "auc3, computed = pr.predict_all(states, spaces, indices, 'inactive-active', states_future)\n",
    "auc4, computed = pr.predict_all(institutions, spaces, indices, 'nascent-developed', institutions_future)\n",
    "auc5, computed = pr.predict_all(states, spaces, indices, 'nascent-developed', states_future)\n",
    "auc6, computed = pr.predict_all(institutions, spaces, indices, 'intermediate-developed', institutions_future)\n",
    "auc7, computed = pr.predict_all(states, spaces, indices, 'intermediate-developed', states_future)\n",
    "aucs = [auc1, auc2, auc3, auc3, auc4, auc5, auc6, auc7]\n",
    "\n",
    "aux = list()\n",
    "for a in aucs:\n",
    "    aux += a\n",
    "aucs = aux"
   ]
  },
  {
   "cell_type": "markdown",
   "metadata": {},
   "source": [
    "And here are the results:"
   ]
  },
  {
   "cell_type": "code",
   "execution_count": null,
   "metadata": {},
   "outputs": [],
   "source": [
    "def __adj_val(vals, q1, q3):\n",
    "    upper_adjacent_value = q3 + (q3 - q1) * 1.5\n",
    "    upper_adjacent_value = np.clip(upper_adjacent_value, q3, max(vals))\n",
    "\n",
    "    lower_adjacent_value = q1 - (q3 - q1) * 1.5\n",
    "    lower_adjacent_value = np.clip(lower_adjacent_value, min(vals), q1)\n",
    "    return lower_adjacent_value, upper_adjacent_value\n",
    "\n",
    "def __axis_style(ax, labels):\n",
    "    ax.get_xaxis().set_tick_params(direction='out')\n",
    "    ax.xaxis.set_ticks_position('bottom')\n",
    "    ax.set_xticks(np.arange(1, len(labels) + 1))\n",
    "    ax.set_xticklabels(labels)\n",
    "    ax.set_xlim(0.25, len(labels) + 0.75)\n",
    "    ax.set_xlabel('Sample name')"
   ]
  },
  {
   "cell_type": "code",
   "execution_count": null,
   "metadata": {},
   "outputs": [],
   "source": [
    "plt.rcParams[\"figure.figsize\"] = (9.8,4)\n",
    "ax = plt.subplot(1,1,1)\n",
    "pos = np.array([1,2,4,5,7,8,11,12,14,15,18,19,21,22])/22 * 13.5 + 0.5\n",
    "parts = ax.violinplot(aucs, positions=pos, showmeans=False, showmedians=True, showextrema=False, widths=0.6, points=1000)\n",
    "\n",
    "for i in range(len(parts['bodies'])):\n",
    "    pc = parts['bodies'][i]\n",
    "    if i%2 ==0:\n",
    "        pc.set_facecolor(plt.cm.viridis(0.25))\n",
    "    else:\n",
    "        pc.set_facecolor(plt.cm.viridis(0.99))\n",
    "    pc.set_edgecolor('black')\n",
    "    pc.set_alpha(0.6)\n",
    "    pc.set_zorder(2)\n",
    "parts[\"cmedians\"].set_edgecolor('black')\n",
    "\n",
    "mean = [np.mean(x) for x in aucs]\n",
    "q1, q3 = np.array([np.percentile(x, [25, 75]).tolist() for x in aucs]).T\n",
    "whiskers = np.array([__adj_val(vals, qq1, qq3) for vals, qq1, qq3 in zip(aucs, q1, q3)])\n",
    "wMin, wMax = whiskers[:,0], whiskers[:,1]\n",
    "\n",
    "ax.scatter(pos, mean, marker='o', color='white', s=30, zorder=4)\n",
    "ax.vlines(pos, q1, q3, color='k', linestyle='-', lw=5, zorder=3)\n",
    "ax.vlines(pos, wMin, wMax, color='k', linestyle='-', lw=1, zorder=3)\n",
    "\n",
    "plt.ylabel('AUROC')\n",
    "plt.xlabel(\"\")\n",
    "plt.box(False)\n",
    "plt.tight_layout()\n",
    "\n",
    "ax.yaxis.grid(b=True, which='major', color='#999999', linestyle='-', alpha=0.2)\n",
    "ax.yaxis.grid(zorder=0)\n",
    "\n",
    "plt.tick_params(\n",
    "    axis='x',          # changes apply to the x-axis\n",
    "    which='both',      # both major and minor ticks are affected\n",
    "    bottom=False,      # ticks along the bottom edge are off\n",
    "    top=False,         # ticks along the top edge are off\n",
    "    labelbottom=False)\n",
    "\n",
    "plt.text((pos[2]+pos[3])/2, -0.07, \"Inactive-Active\", size=12, ha='center')\n",
    "plt.text((pos[7]+pos[8])/2, -0.07, \"Nascent-Developed\", size=12, ha='center')\n",
    "plt.text((pos[11]+pos[12])/2, -.07, \"Intermediate-Developed\", size=12, ha='center')\n",
    "\n",
    "plt.text((pos[0]+pos[1])/2, 1.03, \"Scientists\", size=10, ha='center')\n",
    "plt.text((pos[2]+pos[3])/2, 1.03, \"Institutions\", size=10, ha='center')\n",
    "plt.text((pos[4]+pos[5])/2, 1.03, \"States\", size=10, ha='center')\n",
    "\n",
    "plt.text((pos[6]+pos[7])/2, 1.03, \"Institutions\", size=10, ha='center')\n",
    "plt.text((pos[8]+pos[9])/2, 1.03, \"States\", size=10, ha='center')\n",
    "\n",
    "plt.text((pos[10]+pos[11])/2, 1.03, \"Institutions\", size=10, ha='center')\n",
    "plt.text((pos[12]+pos[13])/2, 1.03, \"States\", size=10, ha='center')\n",
    "\n",
    "plt.legend(['Frequentist', 'Embedding'],bbox_to_anchor=(1.07, .95))\n",
    "\n",
    "plt.show()"
   ]
  },
  {
   "cell_type": "markdown",
   "metadata": {},
   "source": [
    "With this package, you can do multiple experiments easily. All figures in our paper were generated by running it."
   ]
  }
 ],
 "metadata": {
  "kernelspec": {
   "display_name": "Python 3",
   "language": "python",
   "name": "python3"
  },
  "language_info": {
   "codemirror_mode": {
    "name": "ipython",
    "version": 3
   },
   "file_extension": ".py",
   "mimetype": "text/x-python",
   "name": "python",
   "nbconvert_exporter": "python",
   "pygments_lexer": "ipython3",
   "version": "3.9.1"
  }
 },
 "nbformat": 4,
 "nbformat_minor": 4
}